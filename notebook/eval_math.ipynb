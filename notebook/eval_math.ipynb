{
 "cells": [
  {
   "cell_type": "code",
   "execution_count": 1,
   "id": "53082fb7",
   "metadata": {},
   "outputs": [
    {
     "name": "stderr",
     "output_type": "stream",
     "text": [
      "Sliding Window Attention is enabled but not implemented for `sdpa`; unexpected results may be encountered.\n"
     ]
    }
   ],
   "source": [
    "import sys\n",
    "sys.path += ['../']\n",
    "\n",
    "# 导入必要库（参考训练代码）\n",
    "import torch\n",
    "from transformers import AutoModelForCausalLM, AutoTokenizer\n",
    "from datasets import load_dataset\n",
    "import logging\n",
    "from math_verify import LatexExtractionConfig, parse, verify  # 假设已导入（参考[T2](3)\n",
    "from tqdm.notebook import tqdm\n",
    "\n",
    "SYSTEM_PROMPT = (\n",
    "    \"A conversation between User and Assistant. The user asks a question, and the Assistant solves it. The assistant \"\n",
    "    \"first thinks about the reasoning process in the mind and then provides the user with the answer. The reasoning \"\n",
    "    \"process and answer are enclosed within <think> </think> and <answer> </answer> tags, respectively, i.e., \"\n",
    "    \"<think> reasoning process here </think><answer> answer here </answer>\"\n",
    "    \"** The result formula must use latex format **\"\n",
    ")\n",
    "\n",
    "# MODEL_NAME = \"../checkpoint/qwen1.5_raw_20250805/checkpoint-1900/\"\n",
    "MODEL_NAME = \"Qwen/Qwen2.5-1.5B-Instruct\" \n",
    "\n",
    "# 加载tokenizer和模型（参考[T0](1)\n",
    "tokenizer = AutoTokenizer.from_pretrained(MODEL_NAME, trust_remote_code=True, padding_side=\"left\")\n",
    "if tokenizer.pad_token is None:\n",
    "    tokenizer.pad_token = tokenizer.eos_token\n",
    "\n",
    "model = AutoModelForCausalLM.from_pretrained(MODEL_NAME, trust_remote_code=True)  # 从checkpoint加载\n",
    "device = torch.device(\"cuda\" if torch.cuda.is_available() else \"cpu\")\n",
    "model.to(device)\n",
    "model.eval()  # 设置为评估模式[AI KNOWLEDGE]({})\n",
    "\n",
    "# 加载数据集（用户提供的代码）\n",
    "dataset_names = ['algebra', 'counting_and_probability', 'geometry', 'intermediate_algebra', 'number_theory', 'prealgebra', 'precalculus']\n",
    "dataset = load_dataset('EleutherAI/hendrycks_math', name=dataset_names[1], split=['test'])"
   ]
  },
  {
   "cell_type": "code",
   "execution_count": 2,
   "id": "cd3d3394",
   "metadata": {},
   "outputs": [],
   "source": [
    "def generate_response(question: str):\n",
    "    \"\"\"Test inference with the loaded trained model and tokenizer.\"\"\"\n",
    "    messages = [\n",
    "        {\"role\": \"system\", \"content\": SYSTEM_PROMPT}, # Re-use our system prompt\n",
    "        {\"role\": \"user\", \"content\": f\"question: {question}\"}\n",
    "    ]\n",
    "\n",
    "    # Apply chat template using our tokenizer\n",
    "    text = tokenizer.apply_chat_template(\n",
    "        messages,\n",
    "        tokenize=False,\n",
    "        add_generation_prompt=True\n",
    "    )\n",
    "\n",
    "    # Tokenize the input text\n",
    "    inputs = tokenizer(text, return_tensors=\"pt\").to(device)\n",
    "    # Generate output using our *trained_model*\n",
    "    outputs = model.generate(\n",
    "        **inputs,\n",
    "        max_new_tokens=1024, # Maybe generate a bit longer now\n",
    "        do_sample=True,\n",
    "        temperature=0.5,\n",
    "        top_p=1,\n",
    "        top_k=20\n",
    "    )\n",
    "\n",
    "    # Decode the generated tokens back to text\n",
    "    response = tokenizer.decode(outputs[0][len(inputs['input_ids'][0]):], skip_special_tokens=True)\n",
    "    return response"
   ]
  },
  {
   "cell_type": "code",
   "execution_count": 3,
   "id": "7089b876",
   "metadata": {},
   "outputs": [],
   "source": [
    "def accuracy_reward(content, solution):\n",
    "    gold_parsed = parse(solution, extraction_mode=\"first_match\", extraction_config=[LatexExtractionConfig()])\n",
    "    if gold_parsed:\n",
    "        answer_parsed = parse(content, extraction_config=[LatexExtractionConfig()], extraction_mode=\"first_match\")\n",
    "        reward = 1 if verify(answer_parsed, gold_parsed) else 0  # 修改为1/0评估\n",
    "    else:\n",
    "        reward = 0  # 无法解析金标准视为错误\n",
    "    return reward"
   ]
  },
  {
   "cell_type": "code",
   "execution_count": 4,
   "id": "2fe0210b",
   "metadata": {},
   "outputs": [],
   "source": [
    "data_test = dataset[0][1]"
   ]
  },
  {
   "cell_type": "code",
   "execution_count": 5,
   "id": "531d5964",
   "metadata": {},
   "outputs": [
    {
     "name": "stdout",
     "output_type": "stream",
     "text": [
      "To solve this problem, we need to find the value of \\( n \\) such that the probability of rolling exactly two six-sided dice showing numbers other than 1 is \\( \\frac{25}{216} \\).\n",
      "\n",
      "First, let's determine the probability of one die showing a number other than 1. Since there are 6 faces on each die, if a die shows a 1, it has 5 possible outcomes (2 through 6). Therefore, the probability of rolling a 1 is \\( \\frac{1}{6} \\), and the probability of not rolling a 1 is \\( \\frac{5}{6} \\).\n",
      "\n",
      "We want exactly two out of \\( n \\) dice to show a number other than 1. This can be modeled using the binomial distribution. The probability mass function for a binomial random variable \\( X \\) (number of successes) is given by:\n",
      "\\[ P(X = k) = \\binom{n}{k} p^k (1-p)^{n-k} \\]\n",
      "where \\( p = \\frac{5}{6} \\), \\( k = 2 \\), and \\( n \\) is the total number of dice.\n",
      "\n",
      "The probability of getting exactly two dice showing a number other than 1 is:\n",
      "\\[ P(X = 2) = \\binom{n}{2} \\left( \\frac{5}{6} \\right)^2 \\left( \\frac{1}{6} \\right)^{n-2} \\]\n",
      "\n",
      "Given that this probability equals \\( \\frac{25}{216} \\):\n",
      "\\[ \\binom{n}{2} \\left( \\frac{5}{6} \\right)^2 \\left( \\frac{1}{6} \\right)^{n-2} = \\frac{25}{216} \\]\n",
      "\n",
      "Simplify the left-hand side:\n",
      "\\[ \\binom{n}{2} \\cdot \\frac{25}{36} \\cdot \\frac{1}{6^{n-2}} = \\frac{25}{216} \\]\n",
      "\n",
      "Multiply both sides by \\( 36 \\times 6^{n-2} \\) to clear the denominators:\n",
      "\\[ \\binom{n}{2} \\cdot 25 \\cdot 6^{n-2} = \\frac{25 \\cdot 36}{216} \\]\n",
      "\n",
      "Simplify the right-hand side:\n",
      "\\[ \\binom{n}{2} \\cdot 25 \\cdot 6^{n-2} = \\frac{900}{216} \\]\n",
      "\\[ \\binom{n}{2} \\cdot 25 \\cdot 6^{n-2} = \\frac{25}{6} \\]\n",
      "\n",
      "Divide both sides by 25:\n",
      "\\[ \\binom{n}{2} \\cdot 6^{n-2} = \\frac{1}{6} \\]\n",
      "\n",
      "Recall that \\( \\binom{n}{2} = \\frac{n(n-1)}{2} \\):\n",
      "\\[ \\frac{n(n-1)}{2} \\cdot 6^{n-2} = \\frac{1}{6} \\]\n",
      "\n",
      "Multiply both sides by 6 to clear the fraction:\n",
      "\\[ n(n-1) \\cdot 6^{n-2} = \\frac{6}{6} \\]\n",
      "\\[ n(n-1) \\cdot 6^{n-2} = 1 \\]\n",
      "\n",
      "Now, test values of \\( n \\):\n",
      "\n",
      "For \\( n = 4 \\):\n",
      "\\[ 4 \\cdot 3 \\cdot 6^{4-2} = 12 \\cdot 36 = 432 \\neq 1 \\]\n",
      "\n",
      "For \\( n = 3 \\):\n",
      "\\[ 3 \\cdot 2 \\cdot 6^{3-2} = 6 \\cdot 6 = 36 \\neq 1 \\]\n",
      "\n",
      "For \\( n = 2 \\):\n",
      "\\[ 2 \\cdot 1 \\cdot 6^{2-2} = 2 \\cdot 1 = 2 \\neq 1 \\]\n",
      "\n",
      "For \\( n = 1 \\):\n",
      "\\[ 1 \\cdot 0 \\cdot 6^{1-2} = 0 \\neq 1 \\]\n",
      "\n",
      "None of these values work directly, so recheck calculations or consider another approach. However, upon closer review, it seems I missed simplifying correctly earlier:\n",
      "\n",
      "\\[ \\binom{n}{2} \\cdot \\left(\\frac{5}{6}\\right)^2 \\cdot \\left(\\frac{1}{6}\\right)^{n-2} = \\frac{25}{216} \\]\n",
      "\n",
      "Correcting this step-by-step would involve solving the polynomial equation derived from the combinatorial term properly. Let me correct my previous steps and verify again carefully. Correctly solving the binomial coefficient and simplification should yield \\( n =\n",
      "[Eq((1/6)**(n - 2)*(5/6)**2*binomial(n, 2), 25/216), '\\\\binom{n}{2} \\\\cdot (\\\\frac{5}{6})^2 \\\\cdot (\\\\frac{1}{6})^{n-2} = \\\\frac{25}{216}']\n"
     ]
    }
   ],
   "source": [
    "content = generate_response(data_test['problem'])\n",
    "print(content)\n",
    "print(parse(content, extraction_config=[LatexExtractionConfig()], extraction_mode=\"first_match\"))"
   ]
  },
  {
   "cell_type": "code",
   "execution_count": 6,
   "id": "abe8caf7",
   "metadata": {},
   "outputs": [
    {
     "data": {
      "text/plain": [
       "0"
      ]
     },
     "execution_count": 6,
     "metadata": {},
     "output_type": "execute_result"
    }
   ],
   "source": [
    "accuracy_reward(content, data_test['solution'])"
   ]
  },
  {
   "cell_type": "code",
   "execution_count": 7,
   "id": "18905876",
   "metadata": {},
   "outputs": [],
   "source": [
    "def evaluate():\n",
    "    logging.info(\"开始评估...\")\n",
    "    result = []\n",
    "    for data in tqdm(dataset[0]):\n",
    "        question = data['problem']\n",
    "        solution = data['solution']\n",
    "        content = generate_response(question)\n",
    "        reward = accuracy_reward(content, solution)\n",
    "        result.append(reward)\n",
    "    \n",
    "    return result"
   ]
  },
  {
   "cell_type": "code",
   "execution_count": null,
   "id": "c7e60dde",
   "metadata": {},
   "outputs": [
    {
     "data": {
      "application/vnd.jupyter.widget-view+json": {
       "model_id": "f750cc74205d498bb871f8006d4cfc51",
       "version_major": 2,
       "version_minor": 0
      },
      "text/plain": [
       "  0%|          | 0/474 [00:00<?, ?it/s]"
      ]
     },
     "metadata": {},
     "output_type": "display_data"
    }
   ],
   "source": [
    "result = evaluate()"
   ]
  },
  {
   "cell_type": "code",
   "execution_count": null,
   "id": "4577b917",
   "metadata": {},
   "outputs": [],
   "source": [
    "sum(result)/len(result)"
   ]
  },
  {
   "cell_type": "code",
   "execution_count": null,
   "id": "318116f2",
   "metadata": {},
   "outputs": [],
   "source": [
    "result"
   ]
  },
  {
   "cell_type": "code",
   "execution_count": null,
   "id": "f548e10e",
   "metadata": {},
   "outputs": [],
   "source": []
  }
 ],
 "metadata": {
  "kernelspec": {
   "display_name": "Python 3 (ipykernel)",
   "language": "python",
   "name": "python3"
  },
  "language_info": {
   "codemirror_mode": {
    "name": "ipython",
    "version": 3
   },
   "file_extension": ".py",
   "mimetype": "text/x-python",
   "name": "python",
   "nbconvert_exporter": "python",
   "pygments_lexer": "ipython3",
   "version": "3.12.7"
  }
 },
 "nbformat": 4,
 "nbformat_minor": 5
}
